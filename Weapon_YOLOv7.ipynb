{
  "nbformat": 4,
  "nbformat_minor": 0,
  "metadata": {
    "colab": {
      "provenance": []
    },
    "kernelspec": {
      "name": "python3",
      "display_name": "Python 3"
    },
    "language_info": {
      "name": "python"
    }
  },
  "cells": [
    {
      "cell_type": "code",
      "execution_count": null,
      "metadata": {
        "id": "D5OFtRTxOYJc",
        "colab": {
          "base_uri": "https://localhost:8080/"
        },
        "outputId": "0863b3a4-7353-4e23-8590-2e6028a42992"
      },
      "outputs": [
        {
          "output_type": "stream",
          "name": "stdout",
          "text": [
            "Cloning into 'yolov7'...\n",
            "remote: Enumerating objects: 1191, done.\u001b[K\n",
            "remote: Total 1191 (delta 0), reused 0 (delta 0), pack-reused 1191\u001b[K\n",
            "Receiving objects: 100% (1191/1191), 74.22 MiB | 26.99 MiB/s, done.\n",
            "Resolving deltas: 100% (515/515), done.\n",
            "/content/yolov7\n"
          ]
        }
      ],
      "source": [
        "!git clone https://github.com/WongKinYiu/yolov7\n",
        "%cd yolov7"
      ]
    },
    {
      "cell_type": "code",
      "source": [
        "!unzip -q ../dataset.zip -d ../dataset"
      ],
      "metadata": {
        "id": "9EV2YyHqO-OG",
        "colab": {
          "base_uri": "https://localhost:8080/"
        },
        "outputId": "ce308ef7-1dc9-43a5-c62e-64c0ffcf08fd"
      },
      "execution_count": null,
      "outputs": [
        {
          "output_type": "stream",
          "name": "stdout",
          "text": [
            "unzip:  cannot find or open ../dataset.zip, ../dataset.zip.zip or ../dataset.zip.ZIP.\n"
          ]
        }
      ]
    },
    {
      "cell_type": "code",
      "source": [
        "!python '/content/yolov7/train.py' --workers 8 --device 0 --batch-size 12 --data '/content/dataset/coco.yaml' --img 400 400 --cfg '/content/yolov7/cfg/training/yolov7.yaml' --weights yolov7.pt --name yolov7 --hyp '/content/yolov7/data/hyp.scratch.p5.yaml' --epochs 200"
      ],
      "metadata": {
        "id": "36DSI9vsQU8J",
        "colab": {
          "base_uri": "https://localhost:8080/"
        },
        "outputId": "b362a835-4260-482f-e9cf-e5d5ad941d8d"
      },
      "execution_count": null,
      "outputs": [
        {
          "output_type": "stream",
          "name": "stdout",
          "text": [
            "2023-10-09 16:32:55.809382: I tensorflow/core/platform/cpu_feature_guard.cc:182] This TensorFlow binary is optimized to use available CPU instructions in performance-critical operations.\n",
            "To enable the following instructions: AVX2 FMA, in other operations, rebuild TensorFlow with the appropriate compiler flags.\n",
            "2023-10-09 16:32:56.916734: W tensorflow/compiler/tf2tensorrt/utils/py_utils.cc:38] TF-TRT Warning: Could not find TensorRT\n",
            "Traceback (most recent call last):\n",
            "  File \"/content/yolov7/train.py\", line 587, in <module>\n",
            "    opt.data, opt.cfg, opt.hyp = check_file(opt.data), check_file(opt.cfg), check_file(opt.hyp)  # check files\n",
            "  File \"/content/yolov7/utils/general.py\", line 151, in check_file\n",
            "    assert len(files), f'File Not Found: {file}'  # assert file was found\n",
            "AssertionError: File Not Found: /content/dataset/coco.yaml\n"
          ]
        }
      ]
    },
    {
      "cell_type": "code",
      "source": [
        "!python '/content/yolov7/test.py' --weights '/content/yolov7/runs/train/yolov72/weights/best.pt' --data '/content/dataset/coco.yaml' --img-size 416 --conf-thres 0.001 --iou-thres 0.65 --task val --name yolov7"
      ],
      "metadata": {
        "id": "SqRBjct4kKnu"
      },
      "execution_count": null,
      "outputs": []
    },
    {
      "cell_type": "code",
      "source": [
        "!python '/content/yolov7/detect.py' --weights '/content/yolov7/runs/train/yolov72/weights/best.pt' --img 416 --conf 0.001 --source /content/yolov7/test_images/ --save-txt"
      ],
      "metadata": {
        "id": "upsYlQTstVWj"
      },
      "execution_count": null,
      "outputs": []
    }
  ]
}